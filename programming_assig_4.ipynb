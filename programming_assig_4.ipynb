{
 "cells": [
  {
   "cell_type": "markdown",
   "metadata": {},
   "source": [
    "Write a Python Program to Find the Factorial of a Number?"
   ]
  },
  {
   "cell_type": "code",
   "execution_count": 2,
   "metadata": {},
   "outputs": [
    {
     "name": "stdout",
     "output_type": "stream",
     "text": [
      "enter the no.6\n",
      "720 is the factorial\n"
     ]
    }
   ],
   "source": [
    "num=int(input('enter the no.'))\n",
    "k=1\n",
    "for i in range(num,1,-1):\n",
    "    k=k*i\n",
    "print('{} is the factorial'.format(k))"
   ]
  },
  {
   "cell_type": "markdown",
   "metadata": {},
   "source": [
    "Write a Python Program to Display the multiplication Table?\n"
   ]
  },
  {
   "cell_type": "code",
   "execution_count": 5,
   "metadata": {},
   "outputs": [
    {
     "name": "stdout",
     "output_type": "stream",
     "text": [
      "enter the no.6\n",
      "6 X 1 = 6\n",
      "6 X 2 = 12\n",
      "6 X 3 = 18\n",
      "6 X 4 = 24\n",
      "6 X 5 = 30\n",
      "6 X 6 = 36\n",
      "6 X 7 = 42\n",
      "6 X 8 = 48\n",
      "6 X 9 = 54\n",
      "6 X 10 = 60\n"
     ]
    }
   ],
   "source": [
    "num=int(input('enter the no.'))\n",
    "for i in range(1,11):\n",
    "    print(num,'X',i,'=',num*i)\n",
    "    "
   ]
  },
  {
   "cell_type": "markdown",
   "metadata": {},
   "source": [
    "Write a Python Program to Print the Fibonacci sequence?\n"
   ]
  },
  {
   "cell_type": "code",
   "execution_count": 32,
   "metadata": {},
   "outputs": [
    {
     "name": "stdout",
     "output_type": "stream",
     "text": [
      "enter the no6\n",
      "0 \n",
      " 1\n",
      "1\n",
      "2\n",
      "3\n",
      "5\n"
     ]
    }
   ],
   "source": [
    "num=int(input('enter the no'))\n",
    "k,j=0,1\n",
    "print(k,'\\n',j)\n",
    "for i in range(2,num):\n",
    "    l=k+j\n",
    "    k=j\n",
    "    j=l\n",
    "    print(l)\n"
   ]
  },
  {
   "cell_type": "markdown",
   "metadata": {},
   "source": [
    "Write a Python Program to Check Armstrong Number\n"
   ]
  },
  {
   "cell_type": "code",
   "execution_count": 60,
   "metadata": {},
   "outputs": [
    {
     "name": "stdout",
     "output_type": "stream",
     "text": [
      "enter the no345\n",
      "not a armstrong no\n"
     ]
    }
   ],
   "source": [
    "num=input('enter the no')\n",
    "if int(num)>0:\n",
    "    n=int(num)\n",
    "    k=0\n",
    "    for i in range(len(list(num))):\n",
    "        k=k+int(num[i])**3\n",
    "    if k == n:\n",
    "        print('its a armstrong no.')\n",
    "    else:\n",
    "        print('not a armstrong no')\n",
    "else:\n",
    "    print('pls enter again other then 0')"
   ]
  },
  {
   "cell_type": "markdown",
   "metadata": {},
   "source": [
    "Write a Python Program to Find Armstrong Number in an Interval"
   ]
  },
  {
   "cell_type": "code",
   "execution_count": 74,
   "metadata": {},
   "outputs": [
    {
     "name": "stdout",
     "output_type": "stream",
     "text": [
      "pls enter the lower no1\n",
      "enter the upper no200\n",
      "1\n",
      "153\n"
     ]
    }
   ],
   "source": [
    "lw_no=int(input('pls enter the lower no'))\n",
    "up_no=int(input('enter the upper no'))\n",
    "for j in range(lw_no,up_no+1):\n",
    "    num=str(j)\n",
    "    n=int(num)\n",
    "    k=0\n",
    "    for i in range(len(list(num))):\n",
    "        k=k+int(num[i])**3\n",
    "        if k == n:\n",
    "            print(k)\n",
    "        else:\n",
    "            pass"
   ]
  },
  {
   "cell_type": "code",
   "execution_count": null,
   "metadata": {},
   "outputs": [],
   "source": [
    "Write a Python Program to Find the Sum of Natural Numbers"
   ]
  },
  {
   "cell_type": "code",
   "execution_count": 70,
   "metadata": {},
   "outputs": [
    {
     "name": "stdout",
     "output_type": "stream",
     "text": [
      "enter the no100\n",
      "5050\n"
     ]
    }
   ],
   "source": [
    "num=int(input('enter the no'))\n",
    "sum=0\n",
    "for i in range(1,num+1):\n",
    "    sum=sum+i\n",
    "print(sum)"
   ]
  },
  {
   "cell_type": "code",
   "execution_count": null,
   "metadata": {},
   "outputs": [],
   "source": []
  }
 ],
 "metadata": {
  "kernelspec": {
   "display_name": "Python 3",
   "language": "python",
   "name": "python3"
  },
  "language_info": {
   "codemirror_mode": {
    "name": "ipython",
    "version": 3
   },
   "file_extension": ".py",
   "mimetype": "text/x-python",
   "name": "python",
   "nbconvert_exporter": "python",
   "pygments_lexer": "ipython3",
   "version": "3.8.3"
  }
 },
 "nbformat": 4,
 "nbformat_minor": 4
}
