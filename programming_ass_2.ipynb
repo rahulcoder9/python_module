{
 "cells": [
  {
   "cell_type": "markdown",
   "metadata": {},
   "source": [
    "1. Write a Python program to convert kilometers to miles?\n"
   ]
  },
  {
   "cell_type": "code",
   "execution_count": 2,
   "metadata": {},
   "outputs": [
    {
     "name": "stdout",
     "output_type": "stream",
     "text": [
      "enter the kilometers1.3\n",
      "1.3 kilometer = 0.8077823000000001 Miles\n"
     ]
    }
   ],
   "source": [
    "km=float(input('enter the kilometers'))\n",
    "print(km,'kilometer =',0.621371*km,'Miles')"
   ]
  },
  {
   "cell_type": "markdown",
   "metadata": {},
   "source": [
    "2. Write a Python program to convert Celsius to Fahrenheit?"
   ]
  },
  {
   "cell_type": "code",
   "execution_count": 9,
   "metadata": {},
   "outputs": [
    {
     "name": "stdout",
     "output_type": "stream",
     "text": [
      "enter the temperature in degree celsius100\n",
      "100.0 celsius = 212.0 fahrenheit\n"
     ]
    }
   ],
   "source": [
    "temp=float(input('enter the temperature in degree celsius'))\n",
    "print(temp,'celsius =',(temp*(9/5))+32,'fahrenheit')"
   ]
  },
  {
   "cell_type": "markdown",
   "metadata": {},
   "source": [
    "3. Write a Python program to display calendar?"
   ]
  },
  {
   "cell_type": "code",
   "execution_count": 4,
   "metadata": {},
   "outputs": [
    {
     "name": "stdout",
     "output_type": "stream",
     "text": [
      "enter the year3021\n",
      "enter the month2\n",
      "   February 3021\n",
      "Mo Tu We Th Fr Sa Su\n",
      "          1  2  3  4\n",
      " 5  6  7  8  9 10 11\n",
      "12 13 14 15 16 17 18\n",
      "19 20 21 22 23 24 25\n",
      "26 27 28\n",
      "\n"
     ]
    }
   ],
   "source": [
    "import calendar\n",
    "\n",
    "y=int(input('enter the year'))\n",
    "m=int(input('enter the month'))\n",
    "\n",
    "print(calendar.month(y,m))"
   ]
  },
  {
   "cell_type": "markdown",
   "metadata": {},
   "source": [
    "Write a Python program to solve quadratic equation?"
   ]
  },
  {
   "cell_type": "code",
   "execution_count": 6,
   "metadata": {},
   "outputs": [
    {
     "name": "stdout",
     "output_type": "stream",
     "text": [
      "enter the value of a25\n",
      "enter the value of b30\n",
      "enter the value of c-15\n",
      "2400.0\n",
      "root 1= 23.4\n",
      "root 1= -24.6\n"
     ]
    }
   ],
   "source": [
    "import math\n",
    "\n",
    "a=float(input('enter the value of a'))\n",
    "b=float(input('enter the value of b'))\n",
    "c=float(input('enter the value of c'))\n",
    "\n",
    "dic=((b*b)-(4*a*c))\n",
    "print(dic)\n",
    "if dic>0:\n",
    "    print('root 1=',((-b+(dic*.5))/(2*a)))\n",
    "    print('root 1=',((-b-(dic*.5))/(2*a)))\n",
    "elif dic==0:\n",
    "    print('root 1 and root 2 =', -b/(2*a))\n",
    "    \n",
    "else:\n",
    "    print(\"Complex Roots\") \n",
    "    print(- b / (2 * a),'i',(-dic*.5)/(2*a))\n",
    "    print(- b / (2 * a),'-i',(-dic*.5)/(2*a))\n",
    "    "
   ]
  },
  {
   "cell_type": "markdown",
   "metadata": {},
   "source": [
    "5 Write a Python program to swap two variables without temp variable?"
   ]
  },
  {
   "cell_type": "code",
   "execution_count": 10,
   "metadata": {},
   "outputs": [
    {
     "name": "stdout",
     "output_type": "stream",
     "text": [
      "enter the value of a13\n",
      "enter the value of b46\n",
      "the value of a = 46 the value of b= 13\n"
     ]
    }
   ],
   "source": [
    "a=input('enter the value of a')\n",
    "b=input('enter the value of b')\n",
    "a,b=b,a\n",
    "print('the value of a =',a,'the value of b=',b)"
   ]
  },
  {
   "cell_type": "code",
   "execution_count": null,
   "metadata": {},
   "outputs": [],
   "source": []
  }
 ],
 "metadata": {
  "kernelspec": {
   "display_name": "Python 3",
   "language": "python",
   "name": "python3"
  },
  "language_info": {
   "codemirror_mode": {
    "name": "ipython",
    "version": 3
   },
   "file_extension": ".py",
   "mimetype": "text/x-python",
   "name": "python",
   "nbconvert_exporter": "python",
   "pygments_lexer": "ipython3",
   "version": "3.8.3"
  }
 },
 "nbformat": 4,
 "nbformat_minor": 4
}
