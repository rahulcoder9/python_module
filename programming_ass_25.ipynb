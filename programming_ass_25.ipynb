{
 "cells": [
  {
   "cell_type": "markdown",
   "metadata": {},
   "source": [
    "Question1\n",
    "Create a function that takes three integer arguments (a, b, c) and returns the amount of integers which are of equal value.\n",
    "Examples\n",
    "equal(3, 4, 3) ➞ 2\n",
    "\n",
    "equal(1, 1, 1) ➞ 3\n",
    "\n",
    "equal(3, 4, 1) ➞ 0 \n",
    "Notes\n",
    "Your function must return 0, 2 or 3.\n"
   ]
  },
  {
   "cell_type": "code",
   "execution_count": 27,
   "metadata": {},
   "outputs": [],
   "source": [
    "def check(a,b,c):\n",
    "    try:\n",
    "        if int(a)==int(b) and int(b)==int(c):\n",
    "            return 3\n",
    "        elif int(a)==int(b) or int(b)==int(c) or int(a)==int(c):\n",
    "            return 2\n",
    "        else:\n",
    "            return 0\n",
    "    except Exception as e:\n",
    "        return 'error has occured as',e"
   ]
  },
  {
   "cell_type": "code",
   "execution_count": 7,
   "metadata": {},
   "outputs": [
    {
     "data": {
      "text/plain": [
       "0"
      ]
     },
     "execution_count": 7,
     "metadata": {},
     "output_type": "execute_result"
    }
   ],
   "source": [
    "check(1,2,3)"
   ]
  },
  {
   "cell_type": "markdown",
   "metadata": {},
   "source": [
    "Write a function that converts a dictionary into a list of keys-values tuples.\n",
    "Examples\n",
    "dict_to_list({\n",
    "  \"D\": 1,\n",
    "  \"B\": 2,\n",
    "  \"C\": 3\n",
    "}) ➞ [(\"B\", 2), (\"C\", 3), (\"D\", 1)]\n",
    "\n",
    "dict_to_list({\n",
    "  \"likes\": 2,\n",
    "  \"dislikes\": 3,\n",
    "  \"followers\": 10\n",
    "}) ➞ [(\"dislikes\", 3), (\"followers\", 10), (\"likes\", 2)]\n",
    "Notes\n",
    "Return the elements in the list in alphabetical order.\n"
   ]
  },
  {
   "cell_type": "code",
   "execution_count": null,
   "metadata": {},
   "outputs": [],
   "source": [
    "def test(**kwargs):\n",
    "    try:\n",
    "        my_list=list(sorted(kwargs.items()))\n",
    "        return my_list\n",
    "    except exception as e:\n",
    "        return 'error has occured',e"
   ]
  },
  {
   "cell_type": "code",
   "execution_count": 30,
   "metadata": {},
   "outputs": [
    {
     "data": {
      "text/plain": [
       "[('dislikes', 3), ('followers', 10), ('likes', 2)]"
      ]
     },
     "execution_count": 30,
     "metadata": {},
     "output_type": "execute_result"
    }
   ],
   "source": [
    "test(likes= 2,dislikes= 3,followers= 10)"
   ]
  },
  {
   "cell_type": "code",
   "execution_count": 179,
   "metadata": {},
   "outputs": [
    {
     "data": {
      "text/plain": [
       "[('B', 2), ('C', 3), ('D', 1)]"
      ]
     },
     "execution_count": 179,
     "metadata": {},
     "output_type": "execute_result"
    }
   ],
   "source": [
    "test(D= 1,B= 2,C= 3)"
   ]
  },
  {
   "cell_type": "markdown",
   "metadata": {},
   "source": [
    "Question3\n",
    "Write a function that creates a dictionary with each (key, value) pair being the (lower case, upper case) versions of a letter, respectively.\n",
    "Examples\n",
    "mapping([\"p\", \"s\"]) ➞ { \"p\": \"P\", \"s\": \"S\" }\n",
    "\n",
    "mapping([\"a\", \"b\", \"c\"]) ➞ { \"a\": \"A\", \"b\": \"B\", \"c\": \"C\" }\n",
    "\n",
    "mapping([\"a\", \"v\", \"y\", \"z\"]) ➞ { \"a\": \"A\", \"v\": \"V\", \"y\": \"Y\", \"z\": \"Z\" }\n",
    "Notes\n",
    "All of the letters in the input list will always be lowercase.\n"
   ]
  },
  {
   "cell_type": "code",
   "execution_count": 37,
   "metadata": {},
   "outputs": [],
   "source": [
    "def make_dict(ar):\n",
    "    try:\n",
    "        n=[]\n",
    "        for i in ar:\n",
    "            n.append(i.upper())\n",
    "        my_dict=dict(zip(ar,n))\n",
    "        return my_dict\n",
    "    except Exception as e:\n",
    "        return 'error has occured',e\n"
   ]
  },
  {
   "cell_type": "code",
   "execution_count": 41,
   "metadata": {},
   "outputs": [],
   "source": [
    "l=[\"a\", \"v\", \"y\", \"z\"]\n",
    "m=[\"a\", \"b\", \"c\"]"
   ]
  },
  {
   "cell_type": "code",
   "execution_count": 42,
   "metadata": {},
   "outputs": [
    {
     "data": {
      "text/plain": [
       "{'a': 'A', 'b': 'B', 'c': 'C'}"
      ]
     },
     "execution_count": 42,
     "metadata": {},
     "output_type": "execute_result"
    }
   ],
   "source": [
    "make_dict(m)"
   ]
  },
  {
   "cell_type": "markdown",
   "metadata": {},
   "source": [
    "Question4\n",
    "Write a function, that replaces all vowels in a string with a specified vowel.\n",
    "Examples\n",
    "vow_replace(\"apples and bananas\", \"u\") ➞ \"upplus und bununus\"\n",
    "\n",
    "vow_replace(\"cheese casserole\", \"o\") ➞ \"chooso cossorolo\"\n",
    "\n",
    "vow_replace(\"stuffed jalapeno poppers\", \"e\") ➞ \"steffed jelepene peppers\"\n",
    "Notes\n",
    "All words will be lowercase. Y is not considered a vowel.\n"
   ]
  },
  {
   "cell_type": "code",
   "execution_count": 45,
   "metadata": {},
   "outputs": [],
   "source": [
    "def vow_replace(text,replace):\n",
    "    vowel='aeiou'\n",
    "    for i in vowel:\n",
    "        text=text.replace(i,replace)\n",
    "    return text\n"
   ]
  },
  {
   "cell_type": "code",
   "execution_count": 43,
   "metadata": {},
   "outputs": [
    {
     "data": {
      "text/plain": [
       "'@ppl@s @nd b@n@n@s'"
      ]
     },
     "execution_count": 43,
     "metadata": {},
     "output_type": "execute_result"
    }
   ],
   "source": [
    "t='apples and bananas'\n",
    "vowel_replace(t,'@')"
   ]
  },
  {
   "cell_type": "code",
   "execution_count": 47,
   "metadata": {},
   "outputs": [
    {
     "data": {
      "text/plain": [
       "True"
      ]
     },
     "execution_count": 47,
     "metadata": {},
     "output_type": "execute_result"
    }
   ],
   "source": [
    "vow_replace(\"stuffed jalapeno poppers\", \"e\")== \"steffed jelepene peppers\""
   ]
  },
  {
   "cell_type": "markdown",
   "metadata": {},
   "source": [
    "Question5\n",
    "Create a function that takes a string as input and capitalizes a letter if its ASCII code is even and returns its lower case version if its ASCII code is odd.\n",
    "Examples\n",
    "ascii_capitalize(\"to be or not to be!\") ➞ \"To Be oR NoT To Be!\"\n",
    "\n",
    "ascii_capitalize(\"THE LITTLE MERMAID\") ➞ \"THe LiTTLe meRmaiD\"\n",
    "\n",
    "ascii_capitalize(\"Oh what a beautiful morning.\") ➞ \"oH wHaT a BeauTiFuL moRNiNg.\"\n"
   ]
  },
  {
   "cell_type": "code",
   "execution_count": 28,
   "metadata": {},
   "outputs": [],
   "source": [
    "def ascii_capitalize(text):\n",
    "    try:\n",
    "        for i in text:\n",
    "            if ord(i)%2==0:\n",
    "                text=text.replace(i,i.upper())\n",
    "            else:\n",
    "                text=text.replace(i,i.lower())\n",
    "        return text\n",
    "    except Exception as e:\n",
    "        return 'error has occured',e"
   ]
  },
  {
   "cell_type": "code",
   "execution_count": 26,
   "metadata": {},
   "outputs": [
    {
     "data": {
      "text/plain": [
       "'THe LiTTLe meRmaiD'"
      ]
     },
     "execution_count": 26,
     "metadata": {},
     "output_type": "execute_result"
    }
   ],
   "source": [
    "ascii_capitalize(\"THE LITTLE MERMAID\")"
   ]
  },
  {
   "cell_type": "code",
   "execution_count": 48,
   "metadata": {},
   "outputs": [
    {
     "data": {
      "text/plain": [
       "True"
      ]
     },
     "execution_count": 48,
     "metadata": {},
     "output_type": "execute_result"
    }
   ],
   "source": [
    "ascii_capitalize(\"to be or not to be!\")== \"To Be oR NoT To Be!\""
   ]
  }
 ],
 "metadata": {
  "kernelspec": {
   "display_name": "Python 3",
   "language": "python",
   "name": "python3"
  },
  "language_info": {
   "codemirror_mode": {
    "name": "ipython",
    "version": 3
   },
   "file_extension": ".py",
   "mimetype": "text/x-python",
   "name": "python",
   "nbconvert_exporter": "python",
   "pygments_lexer": "ipython3",
   "version": "3.8.3"
  }
 },
 "nbformat": 4,
 "nbformat_minor": 4
}
