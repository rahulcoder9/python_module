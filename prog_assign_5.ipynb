{
 "cells": [
  {
   "cell_type": "code",
   "execution_count": 15,
   "metadata": {},
   "outputs": [
    {
     "name": "stdout",
     "output_type": "stream",
     "text": [
      "enter the first no.3\n",
      "enter the second no.4\n"
     ]
    },
    {
     "data": {
      "text/plain": [
       "12"
      ]
     },
     "execution_count": 15,
     "metadata": {},
     "output_type": "execute_result"
    }
   ],
   "source": [
    "#Write a Python Program to Find LCM?\n",
    "\n",
    "no_1=int(input('enter the first no.'))\n",
    "no_2=int(input('enter the second no.'))\n",
    "\n",
    "def lcm(x, y):\n",
    "    if x>y:\n",
    "        greater = x\n",
    "    else:\n",
    "        greater = y\n",
    "\n",
    "    while(True):\n",
    "        if((greater % x == 0) and (greater % y == 0)):\n",
    "            lcm = greater\n",
    "            break\n",
    "        greater += 1\n",
    "\n",
    "    return lcm\n",
    "\n",
    "lcm(no_1,no_2)\n"
   ]
  },
  {
   "cell_type": "code",
   "execution_count": 19,
   "metadata": {},
   "outputs": [
    {
     "name": "stdout",
     "output_type": "stream",
     "text": [
      "enter the first no.3\n",
      "enter the second no.12\n"
     ]
    },
    {
     "data": {
      "text/plain": [
       "3"
      ]
     },
     "execution_count": 19,
     "metadata": {},
     "output_type": "execute_result"
    }
   ],
   "source": [
    "# Write a Python Program to Find HCF?\n",
    "\n",
    "no_1=int(input('enter the first no.'))\n",
    "no_2=int(input('enter the second no.'))\n",
    "\n",
    "def hcf(x, y):\n",
    "    \n",
    "    if x > y:\n",
    "        smaller = y\n",
    "    else:\n",
    "        smaller = x\n",
    "    for i in range(1, smaller+1):\n",
    "        if((x % i == 0) and (y % i == 0)):\n",
    "            hcf = i \n",
    "    return hcf\n",
    "hcf(no_1,no_2)"
   ]
  },
  {
   "cell_type": "code",
   "execution_count": 20,
   "metadata": {},
   "outputs": [
    {
     "name": "stdout",
     "output_type": "stream",
     "text": [
      "please enter the Decimal value5\n",
      "0b101 in binary\n",
      "0o5 in octal\n",
      "0x5 in hexadecimal\n"
     ]
    }
   ],
   "source": [
    "# Write a Python Program to Convert Decimal to Binary, Octal and Hexadecimal?\n",
    "\n",
    "\n",
    "def convetor(dec):\n",
    "    \n",
    "    print(bin(dec), 'in binary')\n",
    "    print(oct(dec), 'in octal')\n",
    "    print(hex(dec), 'in hexadecimal')\n",
    "    \n",
    "d=int(input('please enter the Decimal value'))\n",
    "convetor(d)"
   ]
  },
  {
   "cell_type": "code",
   "execution_count": 6,
   "metadata": {},
   "outputs": [
    {
     "name": "stdout",
     "output_type": "stream",
     "text": [
      "Enter any character: &\n",
      "The ASCII value of char &  is 38\n"
     ]
    }
   ],
   "source": [
    "# Write a Python Program To Find ASCII value of a character?\n",
    "\n",
    "char = input('Enter any character ')\n",
    "print('The ASCII value of char ' + char + '  is', ord(char))"
   ]
  },
  {
   "cell_type": "code",
   "execution_count": 1,
   "metadata": {},
   "outputs": [
    {
     "name": "stdout",
     "output_type": "stream",
     "text": [
      "enter the first no.3\n",
      "please Press  A = for Addition operation\n",
      "                 S = for Subtraction \n",
      "                 M = for Multiplication\n",
      "                 D = for Division a\n",
      "enter the second no.7\n",
      "10\n"
     ]
    }
   ],
   "source": [
    "# Write a Python Program to Make a Simple Calculator with 4 basic mathematical operations?\n",
    "\n",
    "def calculator():\n",
    "    \n",
    "    no_1=int(input('enter the first no.'))\n",
    "    \n",
    "    op=input('''please Press  A = for Addition operation\n",
    "                 S = for Subtraction \n",
    "                 M = for Multiplication\n",
    "                 D = for Division ''')\n",
    "    \n",
    "    no_2=int(input('enter the second no.'))\n",
    "    \n",
    "    if 'A'==op.upper():\n",
    "        print(no_1+no_2)\n",
    "    elif \"S\"==op.upper():\n",
    "        print( no_1-no_2)\n",
    "    elif 'M'==op.upper():\n",
    "        print(no_1*no_2)\n",
    "    elif 'D'==op.upper():\n",
    "        if no_1>=no_2:\n",
    "            print(no_1%no_2)\n",
    "        else:\n",
    "            print(no_2%no_1)\n",
    "    else:\n",
    "        print('you have press the wrong key')\n",
    "    \n",
    "    \n",
    "\n",
    "calculator()"
   ]
  }
 ],
 "metadata": {
  "kernelspec": {
   "display_name": "Python 3",
   "language": "python",
   "name": "python3"
  },
  "language_info": {
   "codemirror_mode": {
    "name": "ipython",
    "version": 3
   },
   "file_extension": ".py",
   "mimetype": "text/x-python",
   "name": "python",
   "nbconvert_exporter": "python",
   "pygments_lexer": "ipython3",
   "version": "3.8.3"
  }
 },
 "nbformat": 4,
 "nbformat_minor": 4
}
