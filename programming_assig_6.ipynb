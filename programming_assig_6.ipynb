{
 "cells": [
  {
   "cell_type": "code",
   "execution_count": 24,
   "metadata": {},
   "outputs": [
    {
     "name": "stdout",
     "output_type": "stream",
     "text": [
      "enter the no7\n",
      "Fibonacci series\n",
      "0\n",
      "1\n",
      "1\n",
      "2\n",
      "3\n",
      "5\n",
      "8\n"
     ]
    }
   ],
   "source": [
    "#Write a Python Program to Display Fibonacci Sequence Using Recursion\n",
    "\n",
    "def rec(no):\n",
    "    if no<=1:\n",
    "        return no\n",
    "    else:\n",
    "        return rec(no-1) + rec(no-2)\n",
    "n=int(input('enter the no'))\n",
    "if n <= 0:\n",
    "    \n",
    "    print(\"Plese enter a positive integer\")\n",
    "else:\n",
    "    print(\"Fibonacci series\")\n",
    "    for i in range(n):\n",
    "        print(rec(i))\n",
    "\n"
   ]
  },
  {
   "cell_type": "code",
   "execution_count": 23,
   "metadata": {},
   "outputs": [
    {
     "name": "stdout",
     "output_type": "stream",
     "text": [
      "enter the number6\n",
      "720\n"
     ]
    }
   ],
   "source": [
    "# Write a Python Program to Find Factorial of Number Using Recursion?\n",
    "def fib(no):\n",
    "    if no==1:\n",
    "        return no\n",
    "    else:\n",
    "        return no*fib(no-1)\n",
    "n=int(input('enter the number'))\n",
    "print(fib(n))"
   ]
  },
  {
   "cell_type": "code",
   "execution_count": 11,
   "metadata": {},
   "outputs": [
    {
     "name": "stdout",
     "output_type": "stream",
     "text": [
      "enter your height in meter1.71\n",
      "enter the weight in kg72\n",
      "The BMI is 24.622960911049557 so Healthy\n"
     ]
    }
   ],
   "source": [
    "# Write a Python Program to calculate your Body Mass Index?\n",
    "def BMI(height, weight):\n",
    "    bmi = weight/(height**2)\n",
    "    return bmi\n",
    "  \n",
    "height = float(input('enter your height in meter'))\n",
    "weight = float(input('enter the weight in kg'))\n",
    "  \n",
    "bmi = BMI(height, weight)\n",
    "print(\"The BMI is\", format(bmi), \"so \", end='')\n",
    "  \n",
    "if (bmi < 18.5):\n",
    "    print(\"underweight\")\n",
    "elif ( bmi >= 18.5 and bmi < 24.9):\n",
    "    print(\"Healthy\")\n",
    "elif ( bmi >= 24.9 and bmi < 30):\n",
    "    print(\"overweight\")\n",
    "elif ( bmi >=30):\n",
    "    print(\"Suffering from Obesity\")"
   ]
  },
  {
   "cell_type": "code",
   "execution_count": 19,
   "metadata": {},
   "outputs": [
    {
     "name": "stdout",
     "output_type": "stream",
     "text": [
      "enter the no1\n",
      "natural logarithm of  1 is 0.0\n"
     ]
    }
   ],
   "source": [
    "# Write a Python Program to calculate the natural logarithm of any number?\n",
    "import math\n",
    "\n",
    "no=int(input('enter the no'))\n",
    "print('natural logarithm of ',no,'is {}'.format(math.log(no)))"
   ]
  },
  {
   "cell_type": "code",
   "execution_count": 21,
   "metadata": {},
   "outputs": [
    {
     "name": "stdout",
     "output_type": "stream",
     "text": [
      "enter the no8\n",
      "the sum of cube is 1296\n"
     ]
    }
   ],
   "source": [
    "# Write a Python Program for cube sum of first n natural numbers\n",
    "def cube(n):\n",
    "    sum = 0\n",
    "    for i in range(1, n+1):\n",
    "        sum +=i*i*i\n",
    "          \n",
    "    return sum\n",
    "no=int(input('enter the no'))\n",
    "print('the sum of cube is {}'.format(cube(no)))"
   ]
  }
 ],
 "metadata": {
  "kernelspec": {
   "display_name": "Python 3",
   "language": "python",
   "name": "python3"
  },
  "language_info": {
   "codemirror_mode": {
    "name": "ipython",
    "version": 3
   },
   "file_extension": ".py",
   "mimetype": "text/x-python",
   "name": "python",
   "nbconvert_exporter": "python",
   "pygments_lexer": "ipython3",
   "version": "3.8.3"
  }
 },
 "nbformat": 4,
 "nbformat_minor": 4
}
